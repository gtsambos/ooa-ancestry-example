{
 "cells": [
  {
   "cell_type": "markdown",
   "id": "ee1beee0",
   "metadata": {},
   "source": [
    "Install demes, tspop, msprime and the latest version of stdpopsim"
   ]
  },
  {
   "cell_type": "code",
   "execution_count": 1,
   "id": "3088a69a",
   "metadata": {},
   "outputs": [],
   "source": [
    "import sys"
   ]
  },
  {
   "cell_type": "code",
   "execution_count": 2,
   "id": "077bf3b2",
   "metadata": {},
   "outputs": [],
   "source": [
    "# !{sys.executable} -m pip install demesdraw\n",
    "import demes, demesdraw"
   ]
  },
  {
   "cell_type": "code",
   "execution_count": 3,
   "id": "a09cb41e",
   "metadata": {},
   "outputs": [],
   "source": [
    "# !{sys.executable} -m pip install tspop\n",
    "import tspop"
   ]
  },
  {
   "cell_type": "code",
   "execution_count": 4,
   "id": "0d3e10f2",
   "metadata": {},
   "outputs": [],
   "source": [
    "# !{sys.executable} -m pip install git+https://github.com/popsim-consortium/stdpopsim\n",
    "import stdpopsim"
   ]
  },
  {
   "cell_type": "code",
   "execution_count": 5,
   "id": "406d6cc0",
   "metadata": {},
   "outputs": [],
   "source": [
    "# !{sys.executable} -m pip install numpy==1.21.0"
   ]
  },
  {
   "cell_type": "code",
   "execution_count": 11,
   "id": "554d70db",
   "metadata": {},
   "outputs": [],
   "source": [
    "import msprime\n",
    "import matplotlib.pyplot as plt"
   ]
  },
  {
   "cell_type": "markdown",
   "id": "dc76e5bc",
   "metadata": {},
   "source": [
    "### 1. Import the OOA_archaic model from stdpopsim, convert to demes"
   ]
  },
  {
   "cell_type": "code",
   "execution_count": 7,
   "id": "0f83499c",
   "metadata": {},
   "outputs": [],
   "source": [
    "species = stdpopsim.get_species(\"HomSap\")\n",
    "contig = species.get_contig(\"chr22\") # default is a flat genetic map\n",
    "model = species.get_demographic_model('OutOfAfricaArchaicAdmixture_5R19')"
   ]
  },
  {
   "cell_type": "code",
   "execution_count": 8,
   "id": "d2968f9c",
   "metadata": {},
   "outputs": [],
   "source": [
    "graph = model.model.to_demes()"
   ]
  },
  {
   "cell_type": "code",
   "execution_count": 12,
   "id": "b44e7d2b",
   "metadata": {},
   "outputs": [
    {
     "data": {
      "image/png": "[encoded data removed]",
      "text/plain": [
       "<Figure size 324x288 with 1 Axes>"
      ]
     },
     "metadata": {
      "needs_background": "light"
     },
     "output_type": "display_data"
    }
   ],
   "source": [
    "_, ax = plt.subplots(1, 1, figsize=(4.5, 4), tight_layout=True)\n",
    "ax = demesdraw.tubes(graph, ax=ax, log_time=True)"
   ]
  },
  {
   "cell_type": "markdown",
   "id": "e67523d5",
   "metadata": {},
   "source": [
    "### 2. Convert to msprime format and add a census time"
   ]
  },
  {
   "cell_type": "code",
   "execution_count": 22,
   "id": "a155dd86",
   "metadata": {},
   "outputs": [],
   "source": [
    "msp_dem = msprime.Demography.from_demes(graph)"
   ]
  },
  {
   "cell_type": "code",
   "execution_count": 23,
   "id": "aca331d2",
   "metadata": {},
   "outputs": [
    {
     "data": {
      "text/html": [
       "<div style=\"margin-left:20px\"><div><style scoped=\"\">\n",
       "            .tskit-table thead tr th:only-of-type {vertical-align: middle;}\n",
       "            .tskit-table thead tr th {text-align: center;vertical-align: top;}\n",
       "            .tskit-table tbody td {text-align: right;padding: 0.5em 0.5em;}\n",
       "            .tskit-table tbody th {padding: 0.5em 0.5em;}\n",
       "        </style><b>Populations (5)</b><table border=\"1\" class=\"tskit-table\"><thead><tr><th>id</th><th>name</th><th>description</th><th>initial_size</th><th>growth_rate</th><th>default_sampling_time</th><th>extra_metadata</th></tr></thead><tbody><tr><td>0</td><td>YRI</td><td>1000 Genomes YRI (Yoruba)</td><td>13900.0</td><td>0</td><td>0</td><td>{}</td></tr><tr><td>1</td><td>Neanderthal</td><td>Putative Neanderthals</td><td>3600.0</td><td>0</td><td>0</td><td>{}</td></tr><tr><td>2</td><td>ArchaicAFR</td><td>Putative Archaic Africans</td><td>3600.0</td><td>0</td><td>0</td><td>{}</td></tr><tr><td>3</td><td>CEU</td><td>1000 Genomes CEU (Utah Residents (CEPH) with Northern and Western European Ancestry</td><td>10855.1</td><td>0.0013</td><td>0</td><td>{}</td></tr><tr><td>4</td><td>CHB</td><td>1000 Genomes CHB (Han Chinese in Beijing, China)</td><td>65834.8</td><td>0.0037</td><td>0</td><td>{}</td></tr></tbody></table></div><div><style scoped=\"\">\n",
       "            .tskit-table thead tr th:only-of-type {vertical-align: middle;}\n",
       "            .tskit-table thead tr th {text-align: center;vertical-align: top;}\n",
       "            .tskit-table tbody td {text-align: right;padding: 0.5em 0.5em;}\n",
       "            .tskit-table tbody th {padding: 0.5em 0.5em;}\n",
       "        </style><b>Migration matrix</b><table border=\"1\" class=\"tskit-table\"><thead><tr><th></th><th>YRI</th><th>Neanderthal</th><th>ArchaicAFR</th><th>CEU</th><th>CHB</th></tr></thead><tbody><tr><td>YRI</td><td>0</td><td title='Backwards in time migration rate from population YRI to Neanderthal = 0.0 per\n",
       "generation. Forwards in time, this is the expected number of migrants moving\n",
       "from Neanderthal to YRI per generation, divided by the size of YRI.'>0</td><td title='Backwards in time migration rate from population YRI to ArchaicAFR = 0.0 per\n",
       "generation. Forwards in time, this is the expected number of migrants moving\n",
       "from ArchaicAFR to YRI per generation, divided by the size of YRI.'>0</td><td title='Backwards in time migration rate from population YRI to CEU = 2.48e-05 per\n",
       "generation. Forwards in time, this is the expected number of migrants moving\n",
       "from CEU to YRI per generation, divided by the size of YRI.'>2.48e-05</td><td title='Backwards in time migration rate from population YRI to CHB = 0.0 per\n",
       "generation. Forwards in time, this is the expected number of migrants moving\n",
       "from CHB to YRI per generation, divided by the size of YRI.'>0</td></tr><tr><td>Neanderthal</td><td title='Backwards in time migration rate from population Neanderthal to YRI = 0.0 per\n",
       "generation. Forwards in time, this is the expected number of migrants moving\n",
       "from YRI to Neanderthal per generation, divided by the size of Neanderthal.'>0</td><td>0</td><td title='Backwards in time migration rate from population Neanderthal to ArchaicAFR = 0.0\n",
       "per generation. Forwards in time, this is the expected number of migrants moving\n",
       "from ArchaicAFR to Neanderthal per generation, divided by the size of\n",
       "Neanderthal.'>0</td><td title='Backwards in time migration rate from population Neanderthal to CEU = 0.0 per\n",
       "generation. Forwards in time, this is the expected number of migrants moving\n",
       "from CEU to Neanderthal per generation, divided by the size of Neanderthal.'>0</td><td title='Backwards in time migration rate from population Neanderthal to CHB = 0.0 per\n",
       "generation. Forwards in time, this is the expected number of migrants moving\n",
       "from CHB to Neanderthal per generation, divided by the size of Neanderthal.'>0</td></tr><tr><td>ArchaicAFR</td><td title='Backwards in time migration rate from population ArchaicAFR to YRI = 0.0 per\n",
       "generation. Forwards in time, this is the expected number of migrants moving\n",
       "from YRI to ArchaicAFR per generation, divided by the size of ArchaicAFR.'>0</td><td title='Backwards in time migration rate from population ArchaicAFR to Neanderthal = 0.0\n",
       "per generation. Forwards in time, this is the expected number of migrants moving\n",
       "from Neanderthal to ArchaicAFR per generation, divided by the size of\n",
       "ArchaicAFR.'>0</td><td>0</td><td title='Backwards in time migration rate from population ArchaicAFR to CEU = 0.0 per\n",
       "generation. Forwards in time, this is the expected number of migrants moving\n",
       "from CEU to ArchaicAFR per generation, divided by the size of ArchaicAFR.'>0</td><td title='Backwards in time migration rate from population ArchaicAFR to CHB = 0.0 per\n",
       "generation. Forwards in time, this is the expected number of migrants moving\n",
       "from CHB to ArchaicAFR per generation, divided by the size of ArchaicAFR.'>0</td></tr><tr><td>CEU</td><td title='Backwards in time migration rate from population CEU to YRI = 2.48e-05 per\n",
       "generation. Forwards in time, this is the expected number of migrants moving\n",
       "from YRI to CEU per generation, divided by the size of CEU.'>2.48e-05</td><td title='Backwards in time migration rate from population CEU to Neanderthal = 0.0 per\n",
       "generation. Forwards in time, this is the expected number of migrants moving\n",
       "from Neanderthal to CEU per generation, divided by the size of CEU.'>0</td><td title='Backwards in time migration rate from population CEU to ArchaicAFR = 0.0 per\n",
       "generation. Forwards in time, this is the expected number of migrants moving\n",
       "from ArchaicAFR to CEU per generation, divided by the size of CEU.'>0</td><td>0</td><td title='Backwards in time migration rate from population CEU to CHB = 0.000113 per\n",
       "generation. Forwards in time, this is the expected number of migrants moving\n",
       "from CHB to CEU per generation, divided by the size of CEU.'>0.000113</td></tr><tr><td>CHB</td><td title='Backwards in time migration rate from population CHB to YRI = 0.0 per\n",
       "generation. Forwards in time, this is the expected number of migrants moving\n",
       "from YRI to CHB per generation, divided by the size of CHB.'>0</td><td title='Backwards in time migration rate from population CHB to Neanderthal = 0.0 per\n",
       "generation. Forwards in time, this is the expected number of migrants moving\n",
       "from Neanderthal to CHB per generation, divided by the size of CHB.'>0</td><td title='Backwards in time migration rate from population CHB to ArchaicAFR = 0.0 per\n",
       "generation. Forwards in time, this is the expected number of migrants moving\n",
       "from ArchaicAFR to CHB per generation, divided by the size of CHB.'>0</td><td title='Backwards in time migration rate from population CHB to CEU = 0.000113 per\n",
       "generation. Forwards in time, this is the expected number of migrants moving\n",
       "from CEU to CHB per generation, divided by the size of CHB.'>0.000113</td><td>0</td></tr></tbody></table></div><div><style scoped=\"\">\n",
       "            .tskit-table thead tr th:only-of-type {vertical-align: middle;}\n",
       "            .tskit-table thead tr th {text-align: center;vertical-align: top;}\n",
       "            .tskit-table tbody td {text-align: right;padding: 0.5em 0.5em;}\n",
       "            .tskit-table tbody th {padding: 0.5em 0.5em;}\n",
       "        </style><b>Events (27)</b><table border=\"1\" class=\"tskit-table\"><thead><tr><th>time</th><th>type</th><th>parameters</th><th>effect</th></tr></thead><tbody><tr><td>644.8</td><td><a href='https://tskit.dev/msprime/docs/latest/api.html#msprime.Demography.add_migration_rate_change'>Migration rate change</a></td><td>source=ArchaicAFR, dest=YRI, rate=1.98e-05</td><td>Backwards-time migration rate from ArchaicAFR to YRI → 1.98e-05</td></tr><tr><td>644.8</td><td><a href='https://tskit.dev/msprime/docs/latest/api.html#msprime.Demography.add_migration_rate_change'>Migration rate change</a></td><td>source=YRI, dest=ArchaicAFR, rate=1.98e-05</td><td>Backwards-time migration rate from YRI to ArchaicAFR → 1.98e-05</td></tr><tr><td>644.8</td><td><a href='https://tskit.dev/msprime/docs/latest/api.html#msprime.Demography.add_migration_rate_change'>Migration rate change</a></td><td>source=Neanderthal, dest=CEU, rate=8.25e-06</td><td>Backwards-time migration rate from Neanderthal to CEU → 8.25e-06</td></tr><tr><td>644.8</td><td><a href='https://tskit.dev/msprime/docs/latest/api.html#msprime.Demography.add_migration_rate_change'>Migration rate change</a></td><td>source=CEU, dest=Neanderthal, rate=8.25e-06</td><td>Backwards-time migration rate from CEU to Neanderthal → 8.25e-06</td></tr><tr><td>644.8</td><td><a href='https://tskit.dev/msprime/docs/latest/api.html#msprime.Demography.add_migration_rate_change'>Migration rate change</a></td><td>source=Neanderthal, dest=CHB, rate=8.25e-06</td><td>Backwards-time migration rate from Neanderthal to CHB → 8.25e-06</td></tr><tr><td>644.8</td><td><a href='https://tskit.dev/msprime/docs/latest/api.html#msprime.Demography.add_migration_rate_change'>Migration rate change</a></td><td>source=CHB, dest=Neanderthal, rate=8.25e-06</td><td>Backwards-time migration rate from CHB to Neanderthal → 8.25e-06</td></tr><tr><td>1241</td><td><a href='https://tskit.dev/msprime/docs/latest/api.html#msprime.Demography.add_population_parameters_change'>Population parameter change</a></td><td>population=CEU, initial_size=880, growth_rate=0</td><td>initial_size → 8.8e+02 and growth_rate → 0 for population CEU</td></tr><tr><td>1241</td><td><a href='https://tskit.dev/msprime/docs/latest/api.html#msprime.Demography.add_population_split'>Population Split</a></td><td>derived=[CHB], ancestral=CEU</td><td>Moves all lineages from the &#x27;CHB&#x27; derived population to the ancestral &#x27;CEU&#x27; population. Also set &#x27;CHB&#x27; to inactive, and all migration rates to and from the derived population to zero.</td></tr><tr><td>1241</td><td><a href='https://tskit.dev/msprime/docs/latest/api.html#msprime.Demography.add_migration_rate_change'>Migration rate change</a></td><td>source=CEU, dest=YRI, rate=0</td><td>Backwards-time migration rate from CEU to YRI → 0</td></tr><tr><td>1241</td><td><a href='https://tskit.dev/msprime/docs/latest/api.html#msprime.Demography.add_migration_rate_change'>Migration rate change</a></td><td>source=YRI, dest=CEU, rate=0</td><td>Backwards-time migration rate from YRI to CEU → 0</td></tr><tr><td>1241</td><td><a href='https://tskit.dev/msprime/docs/latest/api.html#msprime.Demography.add_migration_rate_change'>Migration rate change</a></td><td>source=CHB, dest=CEU, rate=0</td><td>Backwards-time migration rate from CHB to CEU → 0</td></tr><tr><td>1241</td><td><a href='https://tskit.dev/msprime/docs/latest/api.html#msprime.Demography.add_migration_rate_change'>Migration rate change</a></td><td>source=CEU, dest=CHB, rate=0</td><td>Backwards-time migration rate from CEU to CHB → 0</td></tr><tr><td>1241</td><td><a href='https://tskit.dev/msprime/docs/latest/api.html#msprime.Demography.add_migration_rate_change'>Migration rate change</a></td><td>source=Neanderthal, dest=CHB, rate=0</td><td>Backwards-time migration rate from Neanderthal to CHB → 0</td></tr><tr><td>1241</td><td><a href='https://tskit.dev/msprime/docs/latest/api.html#msprime.Demography.add_migration_rate_change'>Migration rate change</a></td><td>source=CHB, dest=Neanderthal, rate=0</td><td>Backwards-time migration rate from CHB to Neanderthal → 0</td></tr><tr><td>1241</td><td><a href='https://tskit.dev/msprime/docs/latest/api.html#msprime.Demography.add_migration_rate_change'>Migration rate change</a></td><td>source=CEU, dest=YRI, rate=0.000522</td><td>Backwards-time migration rate from CEU to YRI → 0.000522</td></tr><tr><td>1241</td><td><a href='https://tskit.dev/msprime/docs/latest/api.html#msprime.Demography.add_migration_rate_change'>Migration rate change</a></td><td>source=YRI, dest=CEU, rate=0.000522</td><td>Backwards-time migration rate from YRI to CEU → 0.000522</td></tr><tr><td>2093</td><td><a href='https://tskit.dev/msprime/docs/latest/api.html#msprime.Demography.add_population_split'>Population Split</a></td><td>derived=[CEU], ancestral=YRI</td><td>Moves all lineages from the &#x27;CEU&#x27; derived population to the ancestral &#x27;YRI&#x27; population. Also set &#x27;CEU&#x27; to inactive, and all migration rates to and from the derived population to zero.</td></tr><tr><td>2093</td><td><a href='https://tskit.dev/msprime/docs/latest/api.html#msprime.Demography.add_migration_rate_change'>Migration rate change</a></td><td>source=CEU, dest=YRI, rate=0</td><td>Backwards-time migration rate from CEU to YRI → 0</td></tr><tr><td>2093</td><td><a href='https://tskit.dev/msprime/docs/latest/api.html#msprime.Demography.add_migration_rate_change'>Migration rate change</a></td><td>source=YRI, dest=CEU, rate=0</td><td>Backwards-time migration rate from YRI to CEU → 0</td></tr><tr><td>2093</td><td><a href='https://tskit.dev/msprime/docs/latest/api.html#msprime.Demography.add_migration_rate_change'>Migration rate change</a></td><td>source=Neanderthal, dest=CEU, rate=0</td><td>Backwards-time migration rate from Neanderthal to CEU → 0</td></tr><tr><td>2093</td><td><a href='https://tskit.dev/msprime/docs/latest/api.html#msprime.Demography.add_migration_rate_change'>Migration rate change</a></td><td>source=CEU, dest=Neanderthal, rate=0</td><td>Backwards-time migration rate from CEU to Neanderthal → 0</td></tr><tr><td>2094</td><td><a href='https://tskit.dev/msprime/docs/latest/api.html#msprime.Demography.add_census_event'>Census</a></td><td></td><td>Insert census nodes to record the location of all lineages</td></tr><tr><td>4310</td><td><a href='https://tskit.dev/msprime/docs/latest/api.html#msprime.Demography.add_migration_rate_change'>Migration rate change</a></td><td>source=ArchaicAFR, dest=YRI, rate=0</td><td>Backwards-time migration rate from ArchaicAFR to YRI → 0</td></tr><tr><td>4310</td><td><a href='https://tskit.dev/msprime/docs/latest/api.html#msprime.Demography.add_migration_rate_change'>Migration rate change</a></td><td>source=YRI, dest=ArchaicAFR, rate=0</td><td>Backwards-time migration rate from YRI to ArchaicAFR → 0</td></tr><tr><td>1.034e+04</td><td><a href='https://tskit.dev/msprime/docs/latest/api.html#msprime.Demography.add_population_parameters_change'>Population parameter change</a></td><td>population=YRI, initial_size=3600</td><td>initial_size → 3.6e+03 for population YRI</td></tr><tr><td>1.721e+04</td><td><a href='https://tskit.dev/msprime/docs/latest/api.html#msprime.Demography.add_population_split'>Population Split</a></td><td>derived=[ArchaicAFR], ancestral=YRI</td><td>Moves all lineages from the &#x27;ArchaicAFR&#x27; derived population to the ancestral &#x27;YRI&#x27; population. Also set &#x27;ArchaicAFR&#x27; to inactive, and all migration rates to and from the derived population to zero.</td></tr><tr><td>1.928e+04</td><td><a href='https://tskit.dev/msprime/docs/latest/api.html#msprime.Demography.add_population_split'>Population Split</a></td><td>derived=[Neanderthal], ancestral=YRI</td><td>Moves all lineages from the &#x27;Neanderthal&#x27; derived population to the ancestral &#x27;YRI&#x27; population. Also set &#x27;Neanderthal&#x27; to inactive, and all migration rates to and from the derived population to zero.</td></tr></tbody></table></div></div>"
      ],
      "text/plain": [
       "Demography(populations=[Population(initial_size=13900, growth_rate=0, name='YRI', description='1000 Genomes YRI (Yoruba)', extra_metadata={}, default_sampling_time=0.0, initially_active=True, id=0), Population(initial_size=3600, growth_rate=0, name='Neanderthal', description='Putative Neanderthals', extra_metadata={}, default_sampling_time=0.0, initially_active=True, id=1), Population(initial_size=3600, growth_rate=0, name='ArchaicAFR', description='Putative Archaic Africans', extra_metadata={}, default_sampling_time=0.0, initially_active=True, id=2), Population(initial_size=10855.080951853866, growth_rate=0.00125, name='CEU', description='1000 Genomes CEU (Utah Residents (CEPH) with Northern and Western European Ancestry', extra_metadata={}, default_sampling_time=0.0, initially_active=True, id=3), Population(initial_size=65834.77001122756, growth_rate=0.00372, name='CHB', description='1000 Genomes CHB (Han Chinese in Beijing, China)', extra_metadata={}, default_sampling_time=0.0, initially_active=True, id=4)], events=[MigrationRateChange(time=644.8275862068965, rate=1.98e-05, source='ArchaicAFR', dest='YRI'), MigrationRateChange(time=644.8275862068965, rate=1.98e-05, source='YRI', dest='ArchaicAFR'), MigrationRateChange(time=644.8275862068965, rate=8.25e-06, source='Neanderthal', dest='CEU'), MigrationRateChange(time=644.8275862068965, rate=8.25e-06, source='CEU', dest='Neanderthal'), MigrationRateChange(time=644.8275862068965, rate=8.25e-06, source='Neanderthal', dest='CHB'), MigrationRateChange(time=644.8275862068965, rate=8.25e-06, source='CHB', dest='Neanderthal'), PopulationParametersChange(time=1241.3793103448277, initial_size=880, growth_rate=0, population='CEU'), PopulationSplit(time=1241.3793103448277, derived=['CHB'], ancestral='CEU'), MigrationRateChange(time=1241.3793103448277, rate=0, source='CEU', dest='YRI'), MigrationRateChange(time=1241.3793103448277, rate=0, source='YRI', dest='CEU'), MigrationRateChange(time=1241.3793103448277, rate=0, source='CHB', dest='CEU'), MigrationRateChange(time=1241.3793103448277, rate=0, source='CEU', dest='CHB'), MigrationRateChange(time=1241.3793103448277, rate=0, source='Neanderthal', dest='CHB'), MigrationRateChange(time=1241.3793103448277, rate=0, source='CHB', dest='Neanderthal'), MigrationRateChange(time=1241.3793103448277, rate=0.000522, source='CEU', dest='YRI'), MigrationRateChange(time=1241.3793103448277, rate=0.000522, source='YRI', dest='CEU'), PopulationSplit(time=2093.103448275862, derived=['CEU'], ancestral='YRI'), MigrationRateChange(time=2093.103448275862, rate=0, source='CEU', dest='YRI'), MigrationRateChange(time=2093.103448275862, rate=0, source='YRI', dest='CEU'), MigrationRateChange(time=2093.103448275862, rate=0, source='Neanderthal', dest='CEU'), MigrationRateChange(time=2093.103448275862, rate=0, source='CEU', dest='Neanderthal'), CensusEvent(time=2094), MigrationRateChange(time=4310.3448275862065, rate=0, source='ArchaicAFR', dest='YRI'), MigrationRateChange(time=4310.3448275862065, rate=0, source='YRI', dest='ArchaicAFR'), PopulationParametersChange(time=10344.827586206897, initial_size=3600, growth_rate=None, population='YRI'), PopulationSplit(time=17206.896551724138, derived=['ArchaicAFR'], ancestral='YRI'), PopulationSplit(time=19275.862068965518, derived=['Neanderthal'], ancestral='YRI')], migration_matrix=array([[0.00e+00, 0.00e+00, 0.00e+00, 2.48e-05, 0.00e+00],\n",
       "       [0.00e+00, 0.00e+00, 0.00e+00, 0.00e+00, 0.00e+00],\n",
       "       [0.00e+00, 0.00e+00, 0.00e+00, 0.00e+00, 0.00e+00],\n",
       "       [2.48e-05, 0.00e+00, 0.00e+00, 0.00e+00, 1.13e-04],\n",
       "       [0.00e+00, 0.00e+00, 0.00e+00, 1.13e-04, 0.00e+00]]))"
      ]
     },
     "execution_count": 23,
     "metadata": {},
     "output_type": "execute_result"
    }
   ],
   "source": [
    "msp_dem.add_census(time=2094)\n",
    "msp_dem.sort_events()\n",
    "msp_dem"
   ]
  },
  {
   "cell_type": "markdown",
   "id": "1040a0ad",
   "metadata": {},
   "source": [
    "### 3. Simulate."
   ]
  },
  {
   "cell_type": "code",
   "execution_count": 24,
   "id": "665f8b0f",
   "metadata": {},
   "outputs": [],
   "source": [
    "ts = msprime.sim_ancestry(\n",
    "    samples={\"YRI\": 10, \"CEU\": 10, \"CHB\" : 10},\n",
    "    demography=msp_dem,\n",
    "    random_seed=1013,\n",
    "    sequence_length=249250621,\n",
    "    recombination_rate=1.14856e-08\n",
    ")"
   ]
  },
  {
   "cell_type": "code",
   "execution_count": 28,
   "id": "3b985bbd",
   "metadata": {},
   "outputs": [],
   "source": [
    "for t in ts.trees():\n",
    "    if t.time(t.root) < 2094:\n",
    "        print(\"Recent coalescences\")"
   ]
  },
  {
   "cell_type": "markdown",
   "id": "f1f3758e",
   "metadata": {},
   "source": [
    "### 4. Use tspop"
   ]
  },
  {
   "cell_type": "code",
   "execution_count": 52,
   "id": "30be02bd",
   "metadata": {},
   "outputs": [],
   "source": [
    "pa = tspop.get_pop_ancestry(ts, census_time=2094)"
   ]
  },
  {
   "cell_type": "code",
   "execution_count": 32,
   "id": "76b12e93",
   "metadata": {},
   "outputs": [
    {
     "name": "stdout",
     "output_type": "stream",
     "text": [
      "\n",
      "PopAncestry summary\n",
      "Number of ancestral populations: \t3\n",
      "Number of sample chromosomes: \t\t60\n",
      "Number of ancestors: \t\t\t122431\n",
      "Total length of genomes: \t\t14955037260.000000\n",
      "Ancestral coverage: \t\t\t14955037260.000000\n"
     ]
    }
   ],
   "source": [
    "print(pa)"
   ]
  },
  {
   "cell_type": "code",
   "execution_count": 37,
   "id": "52af5492",
   "metadata": {},
   "outputs": [],
   "source": [
    "st = pa.squashed_table"
   ]
  },
  {
   "cell_type": "code",
   "execution_count": 38,
   "id": "59bc1187",
   "metadata": {},
   "outputs": [
    {
     "data": {
      "text/plain": [
       "{0, 1, 2}"
      ]
     },
     "execution_count": 38,
     "metadata": {},
     "output_type": "execute_result"
    }
   ],
   "source": [
    "set(st['population'])"
   ]
  },
  {
   "cell_type": "code",
   "execution_count": 39,
   "id": "17c6667d",
   "metadata": {},
   "outputs": [
    {
     "data": {
      "text/html": [
       "<div>\n",
       "<style scoped>\n",
       "    .dataframe tbody tr th:only-of-type {\n",
       "        vertical-align: middle;\n",
       "    }\n",
       "\n",
       "    .dataframe tbody tr th {\n",
       "        vertical-align: top;\n",
       "    }\n",
       "\n",
       "    .dataframe thead th {\n",
       "        text-align: right;\n",
       "    }\n",
       "</style>\n",
       "<table border=\"1\" class=\"dataframe\">\n",
       "  <thead>\n",
       "    <tr style=\"text-align: right;\">\n",
       "      <th></th>\n",
       "      <th>sample</th>\n",
       "      <th>left</th>\n",
       "      <th>right</th>\n",
       "      <th>population</th>\n",
       "    </tr>\n",
       "  </thead>\n",
       "  <tbody>\n",
       "    <tr>\n",
       "      <th>0</th>\n",
       "      <td>0</td>\n",
       "      <td>0.0</td>\n",
       "      <td>1725210.0</td>\n",
       "      <td>0</td>\n",
       "    </tr>\n",
       "    <tr>\n",
       "      <th>1</th>\n",
       "      <td>0</td>\n",
       "      <td>1725210.0</td>\n",
       "      <td>1828497.0</td>\n",
       "      <td>2</td>\n",
       "    </tr>\n",
       "    <tr>\n",
       "      <th>2</th>\n",
       "      <td>0</td>\n",
       "      <td>1828497.0</td>\n",
       "      <td>2197361.0</td>\n",
       "      <td>0</td>\n",
       "    </tr>\n",
       "    <tr>\n",
       "      <th>3</th>\n",
       "      <td>0</td>\n",
       "      <td>2197361.0</td>\n",
       "      <td>2201373.0</td>\n",
       "      <td>2</td>\n",
       "    </tr>\n",
       "    <tr>\n",
       "      <th>4</th>\n",
       "      <td>0</td>\n",
       "      <td>2201373.0</td>\n",
       "      <td>5926093.0</td>\n",
       "      <td>0</td>\n",
       "    </tr>\n",
       "    <tr>\n",
       "      <th>...</th>\n",
       "      <td>...</td>\n",
       "      <td>...</td>\n",
       "      <td>...</td>\n",
       "      <td>...</td>\n",
       "    </tr>\n",
       "    <tr>\n",
       "      <th>8276</th>\n",
       "      <td>59</td>\n",
       "      <td>238833872.0</td>\n",
       "      <td>238895087.0</td>\n",
       "      <td>0</td>\n",
       "    </tr>\n",
       "    <tr>\n",
       "      <th>8277</th>\n",
       "      <td>59</td>\n",
       "      <td>238895087.0</td>\n",
       "      <td>238996126.0</td>\n",
       "      <td>2</td>\n",
       "    </tr>\n",
       "    <tr>\n",
       "      <th>8278</th>\n",
       "      <td>59</td>\n",
       "      <td>238996126.0</td>\n",
       "      <td>243848454.0</td>\n",
       "      <td>0</td>\n",
       "    </tr>\n",
       "    <tr>\n",
       "      <th>8279</th>\n",
       "      <td>59</td>\n",
       "      <td>243848454.0</td>\n",
       "      <td>243850032.0</td>\n",
       "      <td>2</td>\n",
       "    </tr>\n",
       "    <tr>\n",
       "      <th>8280</th>\n",
       "      <td>59</td>\n",
       "      <td>243850032.0</td>\n",
       "      <td>249250621.0</td>\n",
       "      <td>0</td>\n",
       "    </tr>\n",
       "  </tbody>\n",
       "</table>\n",
       "<p>8281 rows × 4 columns</p>\n",
       "</div>"
      ],
      "text/plain": [
       "      sample         left        right  population\n",
       "0          0          0.0    1725210.0           0\n",
       "1          0    1725210.0    1828497.0           2\n",
       "2          0    1828497.0    2197361.0           0\n",
       "3          0    2197361.0    2201373.0           2\n",
       "4          0    2201373.0    5926093.0           0\n",
       "...      ...          ...          ...         ...\n",
       "8276      59  238833872.0  238895087.0           0\n",
       "8277      59  238895087.0  238996126.0           2\n",
       "8278      59  238996126.0  243848454.0           0\n",
       "8279      59  243848454.0  243850032.0           2\n",
       "8280      59  243850032.0  249250621.0           0\n",
       "\n",
       "[8281 rows x 4 columns]"
      ]
     },
     "execution_count": 39,
     "metadata": {},
     "output_type": "execute_result"
    }
   ],
   "source": [
    "st"
   ]
  },
  {
   "cell_type": "code",
   "execution_count": 41,
   "id": "f3f6329a",
   "metadata": {},
   "outputs": [],
   "source": []
  },
  {
   "cell_type": "code",
   "execution_count": 46,
   "id": "001112e4",
   "metadata": {},
   "outputs": [
    {
     "name": "stdout",
     "output_type": "stream",
     "text": [
      "0.0103913105195433\n"
     ]
    }
   ],
   "source": [
    "# Nea ancestry\n",
    "st1 = st[st.population == 1]\n",
    "pop1_lengths = sum(st1.right - st1.left)\n",
    "print(pop1_lengths/pa.total_genome_length)"
   ]
  },
  {
   "cell_type": "code",
   "execution_count": 45,
   "id": "f55daa5a",
   "metadata": {},
   "outputs": [
    {
     "name": "stdout",
     "output_type": "stream",
     "text": [
      "0.9797931563963218\n"
     ]
    }
   ],
   "source": [
    "# YRI ancestry\n",
    "st0 = st[st.population == 0]\n",
    "pop0_lengths = sum(st0.right - st0.left)\n",
    "print(pop0_lengths/pa.total_genome_length)"
   ]
  },
  {
   "cell_type": "code",
   "execution_count": 47,
   "id": "14f60924",
   "metadata": {},
   "outputs": [
    {
     "name": "stdout",
     "output_type": "stream",
     "text": [
      "0.00981553308413489\n"
     ]
    }
   ],
   "source": [
    "# Arch ancestry\n",
    "st2 = st[st.population == 2]\n",
    "pop2_lengths = sum(st2.right - st2.left)\n",
    "print(pop2_lengths/pa.total_genome_length)"
   ]
  },
  {
   "cell_type": "markdown",
   "id": "57aa1ebb",
   "metadata": {},
   "source": [
    "So actually, across all of the samples, mix of archaic ancestry. What about just in the CEU samples?"
   ]
  },
  {
   "cell_type": "code",
   "execution_count": 60,
   "id": "fe2db307",
   "metadata": {},
   "outputs": [],
   "source": [
    "ts_ceu = ts.simplify(ts.samples(3), keep_input_roots=True, filter_populations=False, keep_unary=True)"
   ]
  },
  {
   "cell_type": "code",
   "execution_count": 61,
   "id": "cc9759c1",
   "metadata": {},
   "outputs": [],
   "source": [
    "pa = tspop.get_pop_ancestry(ts_ceu, census_time=2094)"
   ]
  },
  {
   "cell_type": "code",
   "execution_count": 62,
   "id": "6e4bed10",
   "metadata": {},
   "outputs": [
    {
     "data": {
      "text/plain": [
       "{0, 1, 2}"
      ]
     },
     "execution_count": 62,
     "metadata": {},
     "output_type": "execute_result"
    }
   ],
   "source": [
    "st = pa.squashed_table\n",
    "set(st['population'])"
   ]
  },
  {
   "cell_type": "code",
   "execution_count": 63,
   "id": "60a8170e",
   "metadata": {},
   "outputs": [
    {
     "name": "stdout",
     "output_type": "stream",
     "text": [
      "0.9816419901718119\n"
     ]
    }
   ],
   "source": [
    "# YRI ancestry\n",
    "st0 = st[st.population == 0]\n",
    "pop0_lengths = sum(st0.right - st0.left)\n",
    "print(pop0_lengths/pa.total_genome_length)"
   ]
  },
  {
   "cell_type": "code",
   "execution_count": 64,
   "id": "1891c989",
   "metadata": {},
   "outputs": [
    {
     "name": "stdout",
     "output_type": "stream",
     "text": [
      "0.01606252507591546\n"
     ]
    }
   ],
   "source": [
    "# Nea ancestry\n",
    "st1 = st[st.population == 1]\n",
    "pop1_lengths = sum(st1.right - st1.left)\n",
    "print(pop1_lengths/pa.total_genome_length)"
   ]
  },
  {
   "cell_type": "code",
   "execution_count": 65,
   "id": "9f62ea8b",
   "metadata": {},
   "outputs": [
    {
     "name": "stdout",
     "output_type": "stream",
     "text": [
      "0.0022954847522726933\n"
     ]
    }
   ],
   "source": [
    "# Arch ancestry\n",
    "st2 = st[st.population == 2]\n",
    "pop2_lengths = sum(st2.right - st2.left)\n",
    "print(pop2_lengths/pa.total_genome_length)"
   ]
  },
  {
   "cell_type": "markdown",
   "id": "f4f5cb33",
   "metadata": {},
   "source": [
    "Further things that would be cool to do here:\n",
    " - Plot one of them\n",
    " - Calculate individual global ancestry proportions\n",
    " - (Calculate sample-wide global ancestry proportions)"
   ]
  },
  {
   "cell_type": "code",
   "execution_count": null,
   "id": "c36ecbed",
   "metadata": {},
   "outputs": [],
   "source": []
  }
 ],
 "metadata": {
  "kernelspec": {
   "display_name": "Python 3",
   "language": "python",
   "name": "python3"
  },
  "language_info": {
   "codemirror_mode": {
    "name": "ipython",
    "version": 3
   },
   "file_extension": ".py",
   "mimetype": "text/x-python",
   "name": "python",
   "nbconvert_exporter": "python",
   "pygments_lexer": "ipython3",
   "version": "3.8.8"
  }
 },
 "nbformat": 4,
 "nbformat_minor": 5
}
